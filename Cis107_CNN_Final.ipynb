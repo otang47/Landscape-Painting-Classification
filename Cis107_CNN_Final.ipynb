{
  "cells": [
    {
      "cell_type": "markdown",
      "metadata": {
        "id": "view-in-github",
        "colab_type": "text"
      },
      "source": [
        "<a href=\"https://colab.research.google.com/github/otang47/Landscape-Painting-Classification/blob/main/Cis107_CNN_Final.ipynb\" target=\"_parent\"><img src=\"https://colab.research.google.com/assets/colab-badge.svg\" alt=\"Open In Colab\"/></a>"
      ]
    },
    {
      "cell_type": "markdown",
      "metadata": {
        "id": "vf2kZ7Xi-E17"
      },
      "source": [
        "### **Loading your dataset**\n",
        "\n",
        "Here we give an example of loading your dataset. We provide a python class called \"**classification_dataset**\" that will load data stored in subfolders of different catergorives, and process it to be in the same format as the following tutorial (https://pytorch.org/tutorials/beginner/blitz/cifar10_tutorial.html#sphx-glr-beginner-blitz-cifar10-tutorial-py) -- so you can directly plug in a model.\n",
        "\n",
        "For example, you want to have the folder struture as\n",
        "\n",
        "Folder (e.g. Google_images) \\\n",
        "--- subfolder_1 (e.g. hip_hop_album) \\\n",
        "--- subfolder_2 (e.g. country_album)\n",
        "\n"
      ]
    },
    {
      "cell_type": "code",
      "execution_count": null,
      "metadata": {
        "colab": {
          "base_uri": "https://localhost:8080/"
        },
        "id": "6R9d2fNG3z3F",
        "outputId": "d2a8b534-630c-47fc-84ab-c79e24563d56"
      },
      "outputs": [
        {
          "name": "stdout",
          "output_type": "stream",
          "text": [
            "Drive already mounted at /content/drive; to attempt to forcibly remount, call drive.mount(\"/content/drive\", force_remount=True).\n"
          ]
        }
      ],
      "source": [
        "from google.colab import drive\n",
        "drive.mount('/content/drive')"
      ]
    },
    {
      "cell_type": "code",
      "execution_count": null,
      "metadata": {
        "id": "lKYDI7bYO145"
      },
      "outputs": [],
      "source": [
        "import torch\n",
        "import torchvision\n",
        "import torchvision.transforms as transforms\n",
        "from torch.utils.data import Dataset, DataLoader\n",
        "\n",
        "from glob import glob\n",
        "from PIL import Image\n",
        "import os"
      ]
    },
    {
      "cell_type": "code",
      "execution_count": null,
      "metadata": {
        "id": "pSOF82m4-DQR"
      },
      "outputs": [],
      "source": [
        "class classification_dataset(Dataset):\n",
        "    def __init__(self, folder, size=128, to_tensor=False, mode=None, train_test_ratio=0.8):\n",
        "        super().__init__()\n",
        "        \n",
        "        self.folder = folder\n",
        "        self.subfolders = glob(folder + '/*')\n",
        "        self.category = [sub.split('/')[-1] for sub in self.subfolders]\n",
        "        self.size = size\n",
        "        self.to_tensor = to_tensor\n",
        "        \n",
        "        image_files = []\n",
        "        image_labels = []\n",
        "        for i, c in enumerate(self.category):\n",
        "            subfolder = folder + '/' + c\n",
        "            files = sorted(glob(subfolder + '/*'))\n",
        "            \n",
        "            image_files += files\n",
        "            image_labels += [i for _ in range(len(files))]\n",
        "        \n",
        "        self.image_files = image_files\n",
        "        self.image_labels = image_labels\n",
        "        \n",
        "        \n",
        "        self.transform = transforms.Compose([\n",
        "                                transforms.ToTensor(), \n",
        "                                transforms.Normalize((0.5, 0.5, 0.5), (0.5, 0.5, 0.5))\n",
        "                            ])\n",
        "        \n",
        "        \n",
        "        self.index = self.set_mode(mode, train_test_ratio)\n",
        "        \n",
        "    def __getitem__(self, idx):\n",
        "        index = self.index[idx]\n",
        "        \n",
        "        image = Image.open(self.image_files[index]).convert('RGB')\n",
        "        image = image.resize([self.size, self.size])\n",
        "        if self.to_tensor:\n",
        "            image = self.transform(image)\n",
        "        \n",
        "        \n",
        "        label = self.image_labels[index]\n",
        "        return image, label\n",
        "    \n",
        "    def __len__(self):\n",
        "        return len(self.index)\n",
        "    \n",
        "    \n",
        "    def set_mode(self, mode, train_test_ratio):\n",
        "        torch.manual_seed(0)\n",
        "        \n",
        "        num = len(self.image_files)\n",
        "        index = torch.randperm(num)\n",
        "        \n",
        "        if mode == 'train':\n",
        "            idx = int(num * train_test_ratio)\n",
        "            index = index[:idx]\n",
        "            \n",
        "        elif mode == 'test':\n",
        "            idx = int(num * train_test_ratio)\n",
        "            index = index[idx:]\n",
        "        \n",
        "        index, _ = index.sort()\n",
        "        return index"
      ]
    },
    {
      "cell_type": "code",
      "execution_count": null,
      "metadata": {
        "colab": {
          "base_uri": "https://localhost:8080/"
        },
        "id": "2xa_XbfW-DS3",
        "outputId": "c76c55ed-2fcd-4aa8-fa26-62a4d7cf6b30"
      },
      "outputs": [
        {
          "data": {
            "text/plain": [
              "633"
            ]
          },
          "execution_count": 40,
          "metadata": {},
          "output_type": "execute_result"
        }
      ],
      "source": [
        "dataset = classification_dataset(folder='drive/My Drive/Colab Notebooks/combined_images', size=224)\n",
        "classes = ['Resized_Ming_Paintings', 'Resized_Song_Paintings']\n",
        "len(dataset)"
      ]
    },
    {
      "cell_type": "code",
      "execution_count": null,
      "metadata": {
        "id": "vKaPqlnD-DVj"
      },
      "outputs": [],
      "source": [
        "\"\"\"\n",
        "Copy from pytorch tutorial:\n",
        "https://pytorch.org/tutorials/beginner/blitz/cifar10_tutorial.html#sphx-glr-beginner-blitz-cifar10-tutorial-py\n",
        "\"\"\"\n",
        "\n",
        "batch_size = 4\n",
        "\n",
        "trainset = classification_dataset(folder='drive/My Drive/Colab Notebooks/combined_images', size=32, to_tensor=True, mode='train')\n",
        "\n",
        "trainloader = torch.utils.data.DataLoader(trainset, batch_size=batch_size,\n",
        "                                          shuffle=True, num_workers=2)\n",
        "\n",
        "testset = classification_dataset(folder='drive/My Drive/Colab Notebooks/combined_images', size=32, to_tensor=True, mode='test')\n",
        "\n",
        "testloader = torch.utils.data.DataLoader(testset, batch_size=batch_size,\n",
        "                                         shuffle=False, num_workers=2)"
      ]
    },
    {
      "cell_type": "code",
      "execution_count": null,
      "metadata": {
        "colab": {
          "base_uri": "https://localhost:8080/"
        },
        "id": "G4bDqewdnI25",
        "outputId": "b6786862-a027-4e71-88aa-f226b91cf858"
      },
      "outputs": [
        {
          "name": "stdout",
          "output_type": "stream",
          "text": [
            "322\n"
          ]
        }
      ],
      "source": [
        "file_count = sum(len(files) for _, _, files in os.walk(r'drive/My Drive/Colab Notebooks/combined_images/Resized_Song_Paintings'))\n",
        "print(file_count)"
      ]
    },
    {
      "cell_type": "code",
      "execution_count": null,
      "metadata": {
        "colab": {
          "base_uri": "https://localhost:8080/"
        },
        "id": "AHMnGTZPn-mM",
        "outputId": "420a73d4-9bc7-4d59-878d-f4d4ba70f2c6"
      },
      "outputs": [
        {
          "name": "stdout",
          "output_type": "stream",
          "text": [
            "311\n"
          ]
        }
      ],
      "source": [
        "file_count = sum(len(files) for _, _, files in os.walk(r'drive/My Drive/Colab Notebooks/combined_images/Resized_Ming_Paintings'))\n",
        "print(file_count)"
      ]
    },
    {
      "cell_type": "code",
      "execution_count": null,
      "metadata": {
        "colab": {
          "base_uri": "https://localhost:8080/",
          "height": 156
        },
        "id": "WfddIpOwAHx9",
        "outputId": "1f25847c-26f0-40c4-8dab-5c419571aeb1"
      },
      "outputs": [
        {
          "data": {
            "image/png": "[encoded data removed]",
            "text/plain": [
              "<Figure size 432x288 with 1 Axes>"
            ]
          },
          "metadata": {},
          "output_type": "display_data"
        },
        {
          "name": "stdout",
          "output_type": "stream",
          "text": [
            "Resized_Ming_Paintings Resized_Song_Paintings Resized_Ming_Paintings Resized_Song_Paintings\n"
          ]
        }
      ],
      "source": [
        "\"\"\"\n",
        "Copy from pytorch tutorial:\n",
        "https://pytorch.org/tutorials/beginner/blitz/cifar10_tutorial.html#sphx-glr-beginner-blitz-cifar10-tutorial-py\n",
        "\"\"\"\n",
        "import matplotlib.pyplot as plt\n",
        "import numpy as np\n",
        "\n",
        "# functions to show an image\n",
        "\n",
        "\n",
        "def imshow(img):\n",
        "    img = img / 2 + 0.5     # unnormalize\n",
        "    npimg = img.numpy()\n",
        "    plt.imshow(np.transpose(npimg, (1, 2, 0)))\n",
        "    plt.show()\n",
        "\n",
        "\n",
        "# get some random training images\n",
        "dataiter = iter(trainloader)\n",
        "images, labels = dataiter.next()\n",
        "\n",
        "# show images\n",
        "imshow(torchvision.utils.make_grid(images))\n",
        "# print labels\n",
        "print(' '.join(f'{classes[labels[j]]:5s}' for j in range(batch_size)))"
      ]
    },
    {
      "cell_type": "code",
      "execution_count": null,
      "metadata": {
        "colab": {
          "base_uri": "https://localhost:8080/",
          "height": 301
        },
        "id": "cwCq0dKXAH5k",
        "outputId": "d2d6bc4e-967c-4443-b453-ce606ca6e654"
      },
      "outputs": [
        {
          "data": {
            "image/png": "[encoded data removed]",
            "text/plain": [
              "<Figure size 432x288 with 1 Axes>"
            ]
          },
          "metadata": {},
          "output_type": "display_data"
        },
        {
          "name": "stdout",
          "output_type": "stream",
          "text": [
            "Resized_Ming_Paintings\n",
            "506\n"
          ]
        }
      ],
      "source": [
        "img, label = trainset[100]\n",
        "imshow(img)\n",
        "print(classes[label])\n",
        "print(len(trainset))"
      ]
    },
    {
      "cell_type": "code",
      "execution_count": null,
      "metadata": {
        "colab": {
          "base_uri": "https://localhost:8080/",
          "height": 301
        },
        "id": "6SKpoZohlphA",
        "outputId": "c3ac3cb7-3a2d-4e59-e952-60423b66b033"
      },
      "outputs": [
        {
          "data": {
            "image/png": "[encoded data removed]",
            "text/plain": [
              "<Figure size 432x288 with 1 Axes>"
            ]
          },
          "metadata": {},
          "output_type": "display_data"
        },
        {
          "name": "stdout",
          "output_type": "stream",
          "text": [
            "Resized_Song_Paintings\n",
            "127\n"
          ]
        }
      ],
      "source": [
        "img, label = testset[100]\n",
        "imshow(img)\n",
        "print(classes[label])\n",
        "print(len(testset))"
      ]
    },
    {
      "cell_type": "markdown",
      "metadata": {
        "id": "6Cql0xsRRYPS"
      },
      "source": [
        "2. Define a Convolutional Neural Network\n",
        "^^^^^^^^^^^^^^^^^^^^^^^^^^^^^^^^^^^^^^\n",
        "Copy the neural network from the Neural Networks section before and modify it to\n",
        "take 3-channel images (instead of 1-channel images as it was defined).\n",
        "\n"
      ]
    },
    {
      "cell_type": "code",
      "execution_count": null,
      "metadata": {
        "id": "2a_PRnjSRax8"
      },
      "outputs": [],
      "source": [
        "import torch.nn as nn\n",
        "import torch.nn.functional as F\n",
        "\n",
        "\n",
        "class Net(nn.Module):\n",
        "    def __init__(self):\n",
        "        super().__init__()\n",
        "        self.conv1 = nn.Conv2d(3, 6, 5, padding='same') #rgb, # of filters, kernel size (5x5). 6 channels is like 6 layers\n",
        "        #size of the mask, depends of the size of the image. 6 layers is b/c we trace back\n",
        "        #from 10 number output, if we had a bigger image we would have more layers\n",
        "        self.pool = nn.MaxPool2d(2, 2) #will take from every 2x2 so 16x16, the max value\n",
        "        self.conv2 = nn.Conv2d(6, 16, 5, padding='same') #number of prev channels, 16 from pool, 5x5\n",
        "        self.fc1 = nn.Linear(16 * 8 * 8, 120) #fully connected layer= takes info from whole image (8x8x16)\n",
        "        #add them with weights 1x120 vector\n",
        "        self.fc2 = nn.Linear(120, 84) #compress, small vector 1x24,\n",
        "        self.fc3 = nn.Linear(84, 10) #compress, 1X10 with all info to do classification\n",
        "\n",
        "    def forward(self, x):\n",
        "        x = self.pool(F.relu(self.conv1(x))) #becomes 16 x 16 x 6\n",
        "        x = self.pool(F.relu(self.conv2(x))) #becomes 8 x 8 x 16\n",
        "        x = torch.flatten(x, 1) # flatten all dimensions except batch\n",
        "        x = F.relu(self.fc1(x)) #for a network to be more express, \n",
        "                                #takes into account nonlinear, only pos values\n",
        "        x = F.relu(self.fc2(x))\n",
        "        x = self.fc3(x)\n",
        "        return x\n",
        "        #output the 10 numbers, 10 classes!\n",
        "\n",
        "\n",
        "net = Net()"
      ]
    },
    {
      "cell_type": "code",
      "execution_count": null,
      "metadata": {
        "colab": {
          "base_uri": "https://localhost:8080/"
        },
        "id": "lhVDPPwwxk42",
        "outputId": "8f2cf2c2-2830-453e-f853-15d10cba3be1"
      },
      "outputs": [
        {
          "name": "stdout",
          "output_type": "stream",
          "text": [
            "size of batch: torch.Size([4, 3, 32, 32])\n",
            "after the first conv layer  torch.Size([4, 6, 16, 16])\n",
            "After the 2nd conv layer torch.Size([4, 16, 8, 8])\n"
          ]
        }
      ],
      "source": [
        "print('size of batch:', images.shape)\n",
        "x = net.pool(F.relu(net.conv1(images)))\n",
        "print('after the first conv layer ', x.shape)\n",
        "x = net.pool(F.relu(net.conv2(x)))\n",
        "print('After the 2nd conv layer', x.shape)"
      ]
    },
    {
      "cell_type": "markdown",
      "metadata": {
        "id": "qsfqcRAFxoPk"
      },
      "source": [
        "3. Define a Loss function and optimizer\n",
        "^^^^^^^^^^^^^^^^^^^^^^^^^^^^^^^^^^^^^^^\n",
        "Let's use a Classification Cross-Entropy loss and SGD with momentum.\n",
        "\n"
      ]
    },
    {
      "cell_type": "code",
      "execution_count": null,
      "metadata": {
        "id": "NFODAGvBxpF7"
      },
      "outputs": [],
      "source": [
        "import torch.optim as optim\n",
        "\n",
        "criterion = nn.CrossEntropyLoss()\n",
        "optimizer = optim.SGD(net.parameters(), lr=0.001, momentum=0.9) #how fast the network is learning, remember previous steps"
      ]
    },
    {
      "cell_type": "markdown",
      "metadata": {
        "id": "4dfLfGGBxuVI"
      },
      "source": [
        "4. Train the network\n",
        "^^^^^^^^^^^^^^^^^^^^\n",
        "\n",
        "This is when things start to get interesting.\n",
        "We simply have to loop over our data iterator, and feed the inputs to the\n",
        "network and optimize.\n",
        "\n",
        "Compare ground truth (Ygt) with predicted (y^), tries to minimize y^ - Ygt, but redefining the weights of the coefficients of all the filters.\n",
        "\n",
        "all networks have a loss function, cross rentropy is a formula that takes the log of its label and multiplies it with teh ground truth layer\n",
        "\n"
      ]
    },
    {
      "cell_type": "code",
      "execution_count": null,
      "metadata": {
        "colab": {
          "base_uri": "https://localhost:8080/"
        },
        "id": "AhsXg0IOyKEF",
        "outputId": "18b10594-32ee-4316-8c6a-9b6df4f8db2a"
      },
      "outputs": [
        {
          "output_type": "stream",
          "name": "stdout",
          "text": [
            "[1,     2] loss: 0.029\n",
            "[2,     2] loss: 0.049\n",
            "[3,     2] loss: 0.039\n",
            "[4,     2] loss: 0.047\n",
            "[5,     2] loss: 0.071\n",
            "[6,     2] loss: 0.027\n",
            "[7,     2] loss: 0.064\n",
            "[8,     2] loss: 0.024\n",
            "[9,     2] loss: 0.040\n",
            "[10,     2] loss: 0.017\n",
            "[11,     2] loss: 0.026\n",
            "[12,     2] loss: 0.031\n",
            "[13,     2] loss: 0.036\n",
            "[14,     2] loss: 0.032\n",
            "[15,     2] loss: 0.041\n",
            "[16,     2] loss: 0.177\n",
            "[17,     2] loss: 0.036\n",
            "[18,     2] loss: 0.070\n",
            "[19,     2] loss: 0.037\n",
            "[20,     2] loss: 0.098\n",
            "[21,     2] loss: 0.038\n",
            "[22,     2] loss: 0.060\n",
            "[23,     2] loss: 0.070\n",
            "[24,     2] loss: 0.031\n",
            "[25,     2] loss: 0.045\n",
            "[26,     2] loss: 0.025\n",
            "[27,     2] loss: 0.022\n",
            "[28,     2] loss: 0.021\n",
            "[29,     2] loss: 0.027\n",
            "[30,     2] loss: 0.021\n",
            "[31,     2] loss: 0.058\n",
            "[32,     2] loss: 0.061\n",
            "[33,     2] loss: 0.035\n",
            "[34,     2] loss: 0.075\n",
            "[35,     2] loss: 0.038\n",
            "[36,     2] loss: 0.058\n",
            "[37,     2] loss: 0.061\n",
            "[38,     2] loss: 0.055\n",
            "[39,     2] loss: 0.071\n",
            "[40,     2] loss: 0.103\n",
            "[41,     2] loss: 0.040\n",
            "[42,     2] loss: 0.126\n",
            "[43,     2] loss: 0.061\n",
            "[44,     2] loss: 0.052\n",
            "[45,     2] loss: 0.022\n",
            "[46,     2] loss: 0.045\n",
            "[47,     2] loss: 0.066\n",
            "[48,     2] loss: 0.037\n",
            "[49,     2] loss: 0.057\n",
            "[50,     2] loss: 0.083\n",
            "Finished Training\n"
          ]
        }
      ],
      "source": [
        "for epoch in range(50):  # loop over the dataset multiple times\n",
        "    G_losses = []\n",
        "    running_loss = 0.0\n",
        "    for i, data in enumerate(trainloader, 0):\n",
        "        # get the inputs; data is a list of [inputs, labels]\n",
        "        inputs, labels = data\n",
        "\n",
        "        # zero the parameter gradients\n",
        "        optimizer.zero_grad()\n",
        "\n",
        "        # forward + backward + optimize\n",
        "        outputs = net(inputs)\n",
        "        loss = criterion(outputs, labels)\n",
        "        loss.backward()\n",
        "        optimizer.step()\n",
        "\n",
        "        # print statistics\n",
        "        running_loss += loss.item()\n",
        "        if i % 180 == 1:    # print every 100 mini-batches\n",
        "            print(f'[{epoch + 1}, {i + 1:5d}] loss: {running_loss / 10:.3f}')\n",
        "            # print (running_loss/ 10)\n",
        "            G_losses.append(running_loss / 10)\n",
        "            running_loss = 0.0\n",
        "            \n",
        "\n",
        "print('Finished Training')"
      ]
    },
    {
      "cell_type": "markdown",
      "metadata": {
        "id": "j867-LRk0qVU"
      },
      "source": [
        "Let's quickly save our trained model:\n",
        "\n"
      ]
    },
    {
      "cell_type": "code",
      "execution_count": null,
      "metadata": {
        "id": "LY9Ky_zdzgBb"
      },
      "outputs": [],
      "source": [
        "PATH = './cifar_net.pth'\n",
        "torch.save(net.state_dict(), PATH)"
      ]
    },
    {
      "cell_type": "markdown",
      "metadata": {
        "id": "2f3Y0yGx0u2-"
      },
      "source": [
        "See `here <https://pytorch.org/docs/stable/notes/serialization.html>`_\n",
        "for more details on saving PyTorch models.\n",
        "\n",
        "5. Test the network on the test data\n",
        "^^^^^^^^^^^^^^^^^^^^^^^^^^^^^^^^^^^^\n",
        "\n",
        "We have trained the network for 2 passes over the training dataset.\n",
        "But we need to check if the network has learnt anything at all.\n",
        "\n",
        "We will check this by predicting the class label that the neural network\n",
        "outputs, and checking it against the ground-truth. If the prediction is\n",
        "correct, we add the sample to the list of correct predictions.\n",
        "\n",
        "Okay, first step. Let us display an image from the test set to get familiar.\n",
        "\n"
      ]
    },
    {
      "cell_type": "code",
      "execution_count": null,
      "metadata": {
        "colab": {
          "base_uri": "https://localhost:8080/",
          "height": 156
        },
        "id": "zT-T2x1Azlml",
        "outputId": "01cf13d2-b3ab-4796-bc23-9b0ec9ccdd5e"
      },
      "outputs": [
        {
          "data": {
            "image/png": "[encoded data removed]",
            "text/plain": [
              "<Figure size 432x288 with 1 Axes>"
            ]
          },
          "metadata": {},
          "output_type": "display_data"
        },
        {
          "name": "stdout",
          "output_type": "stream",
          "text": [
            "GroundTruth:  Resized_Ming_Paintings Resized_Ming_Paintings Resized_Ming_Paintings Resized_Ming_Paintings\n"
          ]
        }
      ],
      "source": [
        "dataiter = iter(testloader)\n",
        "images, labels = dataiter.next()\n",
        "\n",
        "# print images\n",
        "imshow(torchvision.utils.make_grid(images))\n",
        "print('GroundTruth: ', ' '.join(f'{classes[labels[j]]:5s}' for j in range(4)))"
      ]
    },
    {
      "cell_type": "code",
      "execution_count": null,
      "metadata": {
        "colab": {
          "base_uri": "https://localhost:8080/",
          "height": 301
        },
        "id": "xI0ErO3Tu5_P",
        "outputId": "32121ba9-792e-493d-bba7-183337170c63"
      },
      "outputs": [
        {
          "data": {
            "image/png": "[encoded data removed]",
            "text/plain": [
              "<Figure size 432x288 with 1 Axes>"
            ]
          },
          "metadata": {},
          "output_type": "display_data"
        },
        {
          "name": "stdout",
          "output_type": "stream",
          "text": [
            "Resized_Ming_Paintings\n",
            "506\n"
          ]
        }
      ],
      "source": [
        "img, label = testset[50]\n",
        "imshow(img)\n",
        "print(classes[label])\n",
        "print(len(trainset))"
      ]
    },
    {
      "cell_type": "code",
      "execution_count": null,
      "metadata": {
        "colab": {
          "base_uri": "https://localhost:8080/"
        },
        "id": "KeM8dnfrzp_G",
        "outputId": "9f7399db-9674-4b6f-8b9f-393e987d18fc"
      },
      "outputs": [
        {
          "data": {
            "text/plain": [
              "<All keys matched successfully>"
            ]
          },
          "execution_count": 54,
          "metadata": {},
          "output_type": "execute_result"
        }
      ],
      "source": [
        "net = Net()\n",
        "net.load_state_dict(torch.load(PATH))"
      ]
    },
    {
      "cell_type": "markdown",
      "metadata": {
        "id": "ER0atjkl08cM"
      },
      "source": [
        "Okay, now let us see what the neural network thinks these examples above are:\n",
        "\n"
      ]
    },
    {
      "cell_type": "code",
      "execution_count": null,
      "metadata": {
        "id": "qcFEg-fnzrvj"
      },
      "outputs": [],
      "source": [
        "outputs = net(images)"
      ]
    },
    {
      "cell_type": "markdown",
      "metadata": {
        "id": "iUseii0B0_9V"
      },
      "source": [
        "The outputs are energies for the 10 classes. The higher the energy for a class, the more the network thinks that the image is of the particular class. So, let's get the index of the highest energy:"
      ]
    },
    {
      "cell_type": "code",
      "execution_count": null,
      "metadata": {
        "colab": {
          "base_uri": "https://localhost:8080/"
        },
        "id": "-nVZO3FpztEr",
        "outputId": "6c008476-ff0e-4ef7-91f7-3bca0a364035"
      },
      "outputs": [
        {
          "name": "stdout",
          "output_type": "stream",
          "text": [
            "Predicted:  Resized_Song_Paintings Resized_Ming_Paintings Resized_Ming_Paintings Resized_Song_Paintings\n"
          ]
        }
      ],
      "source": [
        "_, predicted = torch.max(outputs, 1)\n",
        "\n",
        "print('Predicted: ', ' '.join(f'{classes[predicted[j]]:5s}'\n",
        "                              for j in range(4)))"
      ]
    },
    {
      "cell_type": "code",
      "execution_count": null,
      "metadata": {
        "colab": {
          "base_uri": "https://localhost:8080/"
        },
        "id": "M4adUTs_zxtw",
        "outputId": "2c5918b9-8bd1-4175-d80d-110cb4af9136"
      },
      "outputs": [
        {
          "name": "stdout",
          "output_type": "stream",
          "text": [
            "Accuracy of the network on the 10000 test images: 68 %\n"
          ]
        }
      ],
      "source": [
        "correct = 0\n",
        "total = 0\n",
        "# since we're not training, we don't need to calculate the gradients for our outputs\n",
        "with torch.no_grad():\n",
        "    for data in testloader:\n",
        "        images, labels = data\n",
        "        # calculate outputs by running images through the network\n",
        "        outputs = net(images)\n",
        "        # the class with the highest energy is what we choose as prediction\n",
        "        _, predicted = torch.max(outputs.data, 1)\n",
        "        total += labels.size(0)\n",
        "        correct += (predicted == labels).sum().item()\n",
        "\n",
        "print(f'Accuracy of the network on the 10000 test images: {100 * correct // total} %')"
      ]
    },
    {
      "cell_type": "code",
      "execution_count": null,
      "metadata": {
        "colab": {
          "base_uri": "https://localhost:8080/"
        },
        "id": "EZ5MnO8yz1de",
        "outputId": "9fb6212c-0a5a-4ef3-a940-ba619b7dfd69"
      },
      "outputs": [
        {
          "name": "stdout",
          "output_type": "stream",
          "text": [
            "Accuracy for class: Resized_Ming_Paintings is 78.6 %\n",
            "Accuracy for class: Resized_Song_Paintings is 60.6 %\n"
          ]
        }
      ],
      "source": [
        "# prepare to count predictions for each class\n",
        "correct_pred = {classname: 0 for classname in classes}\n",
        "total_pred = {classname: 0 for classname in classes}\n",
        "\n",
        "# again no gradients needed\n",
        "with torch.no_grad():\n",
        "    for data in testloader:\n",
        "        images, labels = data\n",
        "        outputs = net(images)\n",
        "        _, predictions = torch.max(outputs, 1)\n",
        "        # collect the correct predictions for each class\n",
        "        for label, prediction in zip(labels, predictions):\n",
        "            if label == prediction:\n",
        "                correct_pred[classes[label]] += 1\n",
        "            total_pred[classes[label]] += 1\n",
        "\n",
        "\n",
        "# print accuracy for each class\n",
        "for classname, correct_count in correct_pred.items():\n",
        "    accuracy = 100 * float(correct_count) / total_pred[classname]\n",
        "    print(f'Accuracy for class: {classname:5s} is {accuracy:.1f} %')"
      ]
    },
    {
      "cell_type": "code",
      "execution_count": null,
      "metadata": {
        "colab": {
          "base_uri": "https://localhost:8080/"
        },
        "id": "4GLBBZIx3-O5",
        "outputId": "924e9633-c379-4c55-d9a5-96ce13a6fdf5"
      },
      "outputs": [
        {
          "name": "stdout",
          "output_type": "stream",
          "text": [
            "Accuracy of the network on the train images: 88 %\n"
          ]
        }
      ],
      "source": [
        "correct = 0\n",
        "total = 0\n",
        "# since we're not training, we don't need to calculate the gradients for our outputs\n",
        "with torch.no_grad():\n",
        "    for data in trainloader:\n",
        "        images, labels = data\n",
        "        # calculate outputs by running images through the network\n",
        "        outputs = net(images)\n",
        "        # the class with the highest energy is what we choose as prediction\n",
        "        _, predicted = torch.max(outputs.data, 1)\n",
        "        total += labels.size(0)\n",
        "        correct += (predicted == labels).sum().item()\n",
        "\n",
        "print(f'Accuracy of the network on the train images: {100 * correct // total} %')"
      ]
    },
    {
      "cell_type": "code",
      "execution_count": null,
      "metadata": {
        "colab": {
          "base_uri": "https://localhost:8080/"
        },
        "id": "d7x-0fM53-kX",
        "outputId": "ba77cce9-d41f-4389-b0e7-4e3d7e85baf9"
      },
      "outputs": [
        {
          "name": "stdout",
          "output_type": "stream",
          "text": [
            "Accuracy for class: Resized_Ming_Paintings is 78.6 %\n",
            "Accuracy for class: Resized_Song_Paintings is 60.6 %\n"
          ]
        }
      ],
      "source": [
        "# prepare to count predictions for each class\n",
        "correct_pred = {classname: 0 for classname in classes}\n",
        "total_pred = {classname: 0 for classname in classes}\n",
        "\n",
        "# again no gradients needed\n",
        "with torch.no_grad():\n",
        "    for data in testloader:\n",
        "        images, labels = data\n",
        "        outputs = net(images)\n",
        "        _, predictions = torch.max(outputs, 1)\n",
        "        # collect the correct predictions for each class\n",
        "        for label, prediction in zip(labels, predictions):\n",
        "            if label == prediction:\n",
        "                correct_pred[classes[label]] += 1\n",
        "            total_pred[classes[label]] += 1\n",
        "\n",
        "\n",
        "# print accuracy for each class\n",
        "for classname, correct_count in correct_pred.items():\n",
        "    accuracy = 100 * float(correct_count) / total_pred[classname]\n",
        "    print(f'Accuracy for class: {classname:5s} is {accuracy:.1f} %')"
      ]
    },
    {
      "cell_type": "code",
      "execution_count": null,
      "metadata": {
        "colab": {
          "base_uri": "https://localhost:8080/"
        },
        "id": "lTmuRkR_4C5w",
        "outputId": "04b6bf8e-402a-4353-91d0-7ada8c820869"
      },
      "outputs": [
        {
          "name": "stdout",
          "output_type": "stream",
          "text": [
            "Model accuracy on 127 test images: 68.50%\n"
          ]
        }
      ],
      "source": [
        "total_correct = 0\n",
        "total_images = 0\n",
        "confusion_matrix = np.zeros([2,2], int)\n",
        "with torch.no_grad():\n",
        "    for data in testloader:\n",
        "        images, labels = data\n",
        "        outputs = net(images)\n",
        "        _, predicted = torch.max(outputs.data, 1)\n",
        "        total_images += labels.size(0)\n",
        "        total_correct += (predicted == labels).sum().item()\n",
        "        for i, l in enumerate(labels):\n",
        "            confusion_matrix[l.item(), predicted[i].item()] += 1 \n",
        "\n",
        "model_accuracy = total_correct / total_images * 100\n",
        "print('Model accuracy on {0} test images: {1:.2f}%'.format(total_images, model_accuracy))"
      ]
    },
    {
      "cell_type": "code",
      "execution_count": null,
      "metadata": {
        "colab": {
          "base_uri": "https://localhost:8080/",
          "height": 389
        },
        "id": "oZvu8fF04E8X",
        "outputId": "f868772e-fbf5-4d99-e8eb-302045276b1b"
      },
      "outputs": [
        {
          "data": {
            "image/png": "[encoded data removed]",
            "text/plain": [
              "<Figure size 432x432 with 1 Axes>"
            ]
          },
          "metadata": {},
          "output_type": "display_data"
        }
      ],
      "source": [
        "fig, ax = plt.subplots(1,1,figsize=(6,6))\n",
        "ax.matshow(confusion_matrix, aspect='auto', vmin=0, vmax=50, cmap=plt.get_cmap('Blues'))\n",
        "plt.ylabel('Actual Category')\n",
        "plt.yticks(range(2), classes)\n",
        "plt.xlabel('Predicted Category')\n",
        "plt.xticks(range(2), classes)\n",
        "plt.show()"
      ]
    },
    {
      "cell_type": "code",
      "execution_count": 73,
      "metadata": {
        "id": "SKhebg9CqAw5"
      },
      "outputs": [],
      "source": [
        "# plt.figure(figsize=(10,5))\n",
        "# plt.title(\" Loss During Training\")\n",
        "# plt.plot(G_losses,label=\"Loss\")\n",
        "\n",
        "# plt.xlabel(\"iterations\")\n",
        "# plt.ylabel(\"Loss\")\n",
        "# plt.legend()\n",
        "# plt.show()"
      ]
    }
  ],
  "metadata": {
    "colab": {
      "collapsed_sections": [
        "vdBSRwgGUlwQ",
        "SrpOxMwo_9pB",
        "dI8HEggk24tr",
        "hO5IofYEBpq-"
      ],
      "name": "Cis107_CNN_Final.ipynb",
      "provenance": [],
      "include_colab_link": true
    },
    "kernelspec": {
      "display_name": "Python 3",
      "name": "python3"
    },
    "language_info": {
      "name": "python"
    }
  },
  "nbformat": 4,
  "nbformat_minor": 0
}