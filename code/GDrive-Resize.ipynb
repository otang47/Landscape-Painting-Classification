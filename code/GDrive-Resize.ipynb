{
  "nbformat": 4,
  "nbformat_minor": 0,
  "metadata": {
    "colab": {
      "name": "Copy of GDrive Resize.ipynb",
      "provenance": [],
      "collapsed_sections": []
    },
    "kernelspec": {
      "name": "python3",
      "display_name": "Python 3"
    },
    "accelerator": "GPU"
  },
  "cells": [
    {
      "cell_type": "markdown",
      "metadata": {
        "id": "yhzxsJb3dpWq"
      },
      "source": [
        "#Resize Images on your Google Drive"
      ]
    },
    {
      "cell_type": "markdown",
      "metadata": {
        "id": "w4V-XE6kbkc1"
      },
      "source": [
        "## Clone the `object_detection_demo_flow` repository which also contains the resize script"
      ]
    },
    {
      "cell_type": "code",
      "metadata": {
        "id": "dxc3DmvLQF3z",
        "colab": {
          "base_uri": "https://localhost:8080/"
        },
        "outputId": "7da7a834-94ba-4576-b14d-852040ba7deb"
      },
      "source": [
        "repo_url = 'https://github.com/GotG/object_detection_demo_flow'\n",
        "import os\n",
        "%cd /content\n",
        "repo_dir_path = os.path.abspath(os.path.join('.', os.path.basename(repo_url)))\n",
        "!git clone {repo_url}\n",
        "%cd {repo_dir_path}\n",
        "!git pull"
      ],
      "execution_count": 1,
      "outputs": [
        {
          "metadata": {
            "tags": null
          },
          "name": "stdout",
          "output_type": "stream",
          "text": [
            "/content\n",
            "Cloning into 'object_detection_demo_flow'...\n",
            "remote: Enumerating objects: 3035, done.\u001b[K\n",
            "remote: Total 3035 (delta 0), reused 0 (delta 0), pack-reused 3035\u001b[K\n",
            "Receiving objects: 100% (3035/3035), 229.08 MiB | 13.30 MiB/s, done.\n",
            "Resolving deltas: 100% (1375/1375), done.\n",
            "Checking out files: 100% (2796/2796), done.\n",
            "/content/object_detection_demo_flow\n",
            "Already up to date.\n"
          ]
        }
      ]
    },
    {
      "cell_type": "markdown",
      "metadata": {
        "id": "6LnZjgF4N71_"
      },
      "source": [
        "#Mount your google drive"
      ]
    },
    {
      "cell_type": "code",
      "metadata": {
        "id": "KPahiXuPNQwX",
        "colab": {
          "base_uri": "https://localhost:8080/"
        },
        "outputId": "8061f999-c549-4039-cdde-54ae59dbac30"
      },
      "source": [
        "#mount your google drive.\n",
        "#it will be visible in the file navigator on the left of this notebook\n",
        "#there should be a folder in your drive with your data\n",
        "from google.colab import drive\n",
        "drive.mount('/content/gdrive')"
      ],
      "execution_count": 2,
      "outputs": [
        {
          "output_type": "stream",
          "name": "stdout",
          "text": [
            "Mounted at /content/gdrive\n"
          ]
        }
      ]
    },
    {
      "cell_type": "markdown",
      "metadata": {
        "id": "RGfk0O7opzA_"
      },
      "source": [
        "# From the file browser on the left go to gdrive/My Drive and find your image folder, right click and copy the path, then paste it after --raw-dir between ' '\n",
        "# Make a new folder for the resized images\n",
        "# Resize the images in the folder(s) on your gdrive using the cell below\n",
        "\n",
        "--raw-dir is the path to the folder containing the images to be resized\n",
        "--save-dir is the path to the folder where to save the resized images\n",
        "--ext jpg  assigns the jpg extension to the resized files\n",
        "--target-size is the desired size"
      ]
    },
    {
      "cell_type": "code",
      "metadata": {
        "id": "uvXWk5aKmXZ2",
        "colab": {
          "base_uri": "https://localhost:8080/"
        },
        "outputId": "becb188c-6daa-49b1-9064-7791c471cf15"
      },
      "source": [
        "!python resize_images.py --raw-dir '/content/gdrive/My Drive/Computer Vision Project/Song_Paintings' --save-dir '/content/gdrive/My Drive/Computer Vision Project/Resized_Song_Paintings' --ext jpg --target-size \"(800,800)\""
      ],
      "execution_count": 3,
      "outputs": [
        {
          "output_type": "stream",
          "name": "stdout",
          "text": [
            "144 files to resize from directory `/content/gdrive/My Drive/Computer Vision Project/Song_Paintings` to target size:(800, 800)\n",
            "................................................................................................................................................\n",
            "Done resizing 144 files.\n",
            "Saved to directory: `/content/gdrive/My Drive/Computer Vision Project/Resized_Song_Paintings`\n"
          ]
        }
      ]
    },
    {
      "cell_type": "code",
      "metadata": {
        "id": "Qyl2PyyVnQwH"
      },
      "source": [
        ""
      ],
      "execution_count": null,
      "outputs": []
    }
  ]
}